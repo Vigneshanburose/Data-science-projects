{
 "cells": [
  {
   "cell_type": "markdown",
   "metadata": {},
   "source": [
    "![](https://github.com/GeorgeGalaxy/PhotosFor.../blob/main/LinePurplePink.jpg?raw=true)\n",
    "\n",
    "# Import Libraries\n",
    "<img height=\"100\" src=\"https://github.com/GeorgeGalaxy/PhotosFor.../blob/main/icons/upload-icon.png?raw=true\" width=\"100\"/>"
   ]
  },
  {
   "cell_type": "code",
   "execution_count": 6,
   "metadata": {
    "execution": {
     "iopub.execute_input": "2023-01-12T08:03:18.853713Z",
     "iopub.status.busy": "2023-01-12T08:03:18.853343Z",
     "iopub.status.idle": "2023-01-12T08:03:20.464560Z",
     "shell.execute_reply": "2023-01-12T08:03:20.463376Z",
     "shell.execute_reply.started": "2023-01-12T08:03:18.853622Z"
    },
    "jupyter": {
     "outputs_hidden": false
    },
    "pycharm": {
     "name": "#%%\n"
    }
   },
   "outputs": [],
   "source": [
    "import numpy as np\n",
    "import pandas as pd\n",
    "import matplotlib.pyplot as plt\n",
    "from matplotlib import style\n",
    "from matplotlib.gridspec import GridSpec\n",
    "import seaborn as sns\n",
    "from scipy import stats\n",
    "\n",
    "from sklearn. impute import SimpleImputer\n",
    "from sklearn.preprocessing import StandardScaler, OneHotEncoder\n",
    "from sklearn.compose import make_column_selector,make_column_transformer\n",
    "from sklearn.pipeline import make_pipeline\n",
    "from sklearn.linear_model import LinearRegression\n",
    "from sklearn.model_selection import cross_val_score, train_test_split\n",
    "import sklearn.metrics as metrics\n",
    "\n",
    "sns.set()\n",
    "style.use('fivethirtyeight')\n",
    "pd.options.mode.chained_assignment = None  # default='warn'"
   ]
  },
  {
   "cell_type": "markdown",
   "metadata": {},
   "source": [
    "# Loading Dataset\n",
    "<img height=\"100\" src=\"https://github.com/GeorgeGalaxy/PhotosFor.../blob/main/icons/add-to-database.png?raw=true\" width=\"100\"/>"
   ]
  },
  {
   "cell_type": "code",
   "execution_count": 5,
   "metadata": {
    "execution": {
     "iopub.execute_input": "2023-01-12T08:03:20.466922Z",
     "iopub.status.busy": "2023-01-12T08:03:20.466527Z",
     "iopub.status.idle": "2023-01-12T08:03:20.523304Z",
     "shell.execute_reply": "2023-01-12T08:03:20.522659Z",
     "shell.execute_reply.started": "2023-01-12T08:03:20.466876Z"
    },
    "jupyter": {
     "outputs_hidden": false
    },
    "pycharm": {
     "name": "#%%\n"
    }
   },
   "outputs": [
    {
     "ename": "FileNotFoundError",
     "evalue": "[Errno 2] No such file or directory: '../input/housedata/data.csv'",
     "output_type": "error",
     "traceback": [
      "\u001b[1;31m---------------------------------------------------------------------------\u001b[0m",
      "\u001b[1;31mFileNotFoundError\u001b[0m                         Traceback (most recent call last)",
      "\u001b[1;32m~\\AppData\\Local\\Temp\\ipykernel_1904\\1112978932.py\u001b[0m in \u001b[0;36m<module>\u001b[1;34m\u001b[0m\n\u001b[1;32m----> 1\u001b[1;33m \u001b[0mdata\u001b[0m \u001b[1;33m=\u001b[0m \u001b[0mpd\u001b[0m\u001b[1;33m.\u001b[0m\u001b[0mread_csv\u001b[0m\u001b[1;33m(\u001b[0m\u001b[1;34m'../input/housedata/data.csv'\u001b[0m\u001b[1;33m)\u001b[0m\u001b[1;33m\u001b[0m\u001b[1;33m\u001b[0m\u001b[0m\n\u001b[0m",
      "\u001b[1;32m~\\anaconda3\\lib\\site-packages\\pandas\\util\\_decorators.py\u001b[0m in \u001b[0;36mwrapper\u001b[1;34m(*args, **kwargs)\u001b[0m\n\u001b[0;32m    309\u001b[0m                     \u001b[0mstacklevel\u001b[0m\u001b[1;33m=\u001b[0m\u001b[0mstacklevel\u001b[0m\u001b[1;33m,\u001b[0m\u001b[1;33m\u001b[0m\u001b[1;33m\u001b[0m\u001b[0m\n\u001b[0;32m    310\u001b[0m                 )\n\u001b[1;32m--> 311\u001b[1;33m             \u001b[1;32mreturn\u001b[0m \u001b[0mfunc\u001b[0m\u001b[1;33m(\u001b[0m\u001b[1;33m*\u001b[0m\u001b[0margs\u001b[0m\u001b[1;33m,\u001b[0m \u001b[1;33m**\u001b[0m\u001b[0mkwargs\u001b[0m\u001b[1;33m)\u001b[0m\u001b[1;33m\u001b[0m\u001b[1;33m\u001b[0m\u001b[0m\n\u001b[0m\u001b[0;32m    312\u001b[0m \u001b[1;33m\u001b[0m\u001b[0m\n\u001b[0;32m    313\u001b[0m         \u001b[1;32mreturn\u001b[0m \u001b[0mwrapper\u001b[0m\u001b[1;33m\u001b[0m\u001b[1;33m\u001b[0m\u001b[0m\n",
      "\u001b[1;32m~\\anaconda3\\lib\\site-packages\\pandas\\io\\parsers\\readers.py\u001b[0m in \u001b[0;36mread_csv\u001b[1;34m(filepath_or_buffer, sep, delimiter, header, names, index_col, usecols, squeeze, prefix, mangle_dupe_cols, dtype, engine, converters, true_values, false_values, skipinitialspace, skiprows, skipfooter, nrows, na_values, keep_default_na, na_filter, verbose, skip_blank_lines, parse_dates, infer_datetime_format, keep_date_col, date_parser, dayfirst, cache_dates, iterator, chunksize, compression, thousands, decimal, lineterminator, quotechar, quoting, doublequote, escapechar, comment, encoding, encoding_errors, dialect, error_bad_lines, warn_bad_lines, on_bad_lines, delim_whitespace, low_memory, memory_map, float_precision, storage_options)\u001b[0m\n\u001b[0;32m    676\u001b[0m     \u001b[0mkwds\u001b[0m\u001b[1;33m.\u001b[0m\u001b[0mupdate\u001b[0m\u001b[1;33m(\u001b[0m\u001b[0mkwds_defaults\u001b[0m\u001b[1;33m)\u001b[0m\u001b[1;33m\u001b[0m\u001b[1;33m\u001b[0m\u001b[0m\n\u001b[0;32m    677\u001b[0m \u001b[1;33m\u001b[0m\u001b[0m\n\u001b[1;32m--> 678\u001b[1;33m     \u001b[1;32mreturn\u001b[0m \u001b[0m_read\u001b[0m\u001b[1;33m(\u001b[0m\u001b[0mfilepath_or_buffer\u001b[0m\u001b[1;33m,\u001b[0m \u001b[0mkwds\u001b[0m\u001b[1;33m)\u001b[0m\u001b[1;33m\u001b[0m\u001b[1;33m\u001b[0m\u001b[0m\n\u001b[0m\u001b[0;32m    679\u001b[0m \u001b[1;33m\u001b[0m\u001b[0m\n\u001b[0;32m    680\u001b[0m \u001b[1;33m\u001b[0m\u001b[0m\n",
      "\u001b[1;32m~\\anaconda3\\lib\\site-packages\\pandas\\io\\parsers\\readers.py\u001b[0m in \u001b[0;36m_read\u001b[1;34m(filepath_or_buffer, kwds)\u001b[0m\n\u001b[0;32m    573\u001b[0m \u001b[1;33m\u001b[0m\u001b[0m\n\u001b[0;32m    574\u001b[0m     \u001b[1;31m# Create the parser.\u001b[0m\u001b[1;33m\u001b[0m\u001b[1;33m\u001b[0m\u001b[0m\n\u001b[1;32m--> 575\u001b[1;33m     \u001b[0mparser\u001b[0m \u001b[1;33m=\u001b[0m \u001b[0mTextFileReader\u001b[0m\u001b[1;33m(\u001b[0m\u001b[0mfilepath_or_buffer\u001b[0m\u001b[1;33m,\u001b[0m \u001b[1;33m**\u001b[0m\u001b[0mkwds\u001b[0m\u001b[1;33m)\u001b[0m\u001b[1;33m\u001b[0m\u001b[1;33m\u001b[0m\u001b[0m\n\u001b[0m\u001b[0;32m    576\u001b[0m \u001b[1;33m\u001b[0m\u001b[0m\n\u001b[0;32m    577\u001b[0m     \u001b[1;32mif\u001b[0m \u001b[0mchunksize\u001b[0m \u001b[1;32mor\u001b[0m \u001b[0miterator\u001b[0m\u001b[1;33m:\u001b[0m\u001b[1;33m\u001b[0m\u001b[1;33m\u001b[0m\u001b[0m\n",
      "\u001b[1;32m~\\anaconda3\\lib\\site-packages\\pandas\\io\\parsers\\readers.py\u001b[0m in \u001b[0;36m__init__\u001b[1;34m(self, f, engine, **kwds)\u001b[0m\n\u001b[0;32m    930\u001b[0m \u001b[1;33m\u001b[0m\u001b[0m\n\u001b[0;32m    931\u001b[0m         \u001b[0mself\u001b[0m\u001b[1;33m.\u001b[0m\u001b[0mhandles\u001b[0m\u001b[1;33m:\u001b[0m \u001b[0mIOHandles\u001b[0m \u001b[1;33m|\u001b[0m \u001b[1;32mNone\u001b[0m \u001b[1;33m=\u001b[0m \u001b[1;32mNone\u001b[0m\u001b[1;33m\u001b[0m\u001b[1;33m\u001b[0m\u001b[0m\n\u001b[1;32m--> 932\u001b[1;33m         \u001b[0mself\u001b[0m\u001b[1;33m.\u001b[0m\u001b[0m_engine\u001b[0m \u001b[1;33m=\u001b[0m \u001b[0mself\u001b[0m\u001b[1;33m.\u001b[0m\u001b[0m_make_engine\u001b[0m\u001b[1;33m(\u001b[0m\u001b[0mf\u001b[0m\u001b[1;33m,\u001b[0m \u001b[0mself\u001b[0m\u001b[1;33m.\u001b[0m\u001b[0mengine\u001b[0m\u001b[1;33m)\u001b[0m\u001b[1;33m\u001b[0m\u001b[1;33m\u001b[0m\u001b[0m\n\u001b[0m\u001b[0;32m    933\u001b[0m \u001b[1;33m\u001b[0m\u001b[0m\n\u001b[0;32m    934\u001b[0m     \u001b[1;32mdef\u001b[0m \u001b[0mclose\u001b[0m\u001b[1;33m(\u001b[0m\u001b[0mself\u001b[0m\u001b[1;33m)\u001b[0m\u001b[1;33m:\u001b[0m\u001b[1;33m\u001b[0m\u001b[1;33m\u001b[0m\u001b[0m\n",
      "\u001b[1;32m~\\anaconda3\\lib\\site-packages\\pandas\\io\\parsers\\readers.py\u001b[0m in \u001b[0;36m_make_engine\u001b[1;34m(self, f, engine)\u001b[0m\n\u001b[0;32m   1214\u001b[0m             \u001b[1;31m# \"Union[str, PathLike[str], ReadCsvBuffer[bytes], ReadCsvBuffer[str]]\"\u001b[0m\u001b[1;33m\u001b[0m\u001b[1;33m\u001b[0m\u001b[0m\n\u001b[0;32m   1215\u001b[0m             \u001b[1;31m# , \"str\", \"bool\", \"Any\", \"Any\", \"Any\", \"Any\", \"Any\"\u001b[0m\u001b[1;33m\u001b[0m\u001b[1;33m\u001b[0m\u001b[0m\n\u001b[1;32m-> 1216\u001b[1;33m             self.handles = get_handle(  # type: ignore[call-overload]\n\u001b[0m\u001b[0;32m   1217\u001b[0m                 \u001b[0mf\u001b[0m\u001b[1;33m,\u001b[0m\u001b[1;33m\u001b[0m\u001b[1;33m\u001b[0m\u001b[0m\n\u001b[0;32m   1218\u001b[0m                 \u001b[0mmode\u001b[0m\u001b[1;33m,\u001b[0m\u001b[1;33m\u001b[0m\u001b[1;33m\u001b[0m\u001b[0m\n",
      "\u001b[1;32m~\\anaconda3\\lib\\site-packages\\pandas\\io\\common.py\u001b[0m in \u001b[0;36mget_handle\u001b[1;34m(path_or_buf, mode, encoding, compression, memory_map, is_text, errors, storage_options)\u001b[0m\n\u001b[0;32m    784\u001b[0m         \u001b[1;32mif\u001b[0m \u001b[0mioargs\u001b[0m\u001b[1;33m.\u001b[0m\u001b[0mencoding\u001b[0m \u001b[1;32mand\u001b[0m \u001b[1;34m\"b\"\u001b[0m \u001b[1;32mnot\u001b[0m \u001b[1;32min\u001b[0m \u001b[0mioargs\u001b[0m\u001b[1;33m.\u001b[0m\u001b[0mmode\u001b[0m\u001b[1;33m:\u001b[0m\u001b[1;33m\u001b[0m\u001b[1;33m\u001b[0m\u001b[0m\n\u001b[0;32m    785\u001b[0m             \u001b[1;31m# Encoding\u001b[0m\u001b[1;33m\u001b[0m\u001b[1;33m\u001b[0m\u001b[0m\n\u001b[1;32m--> 786\u001b[1;33m             handle = open(\n\u001b[0m\u001b[0;32m    787\u001b[0m                 \u001b[0mhandle\u001b[0m\u001b[1;33m,\u001b[0m\u001b[1;33m\u001b[0m\u001b[1;33m\u001b[0m\u001b[0m\n\u001b[0;32m    788\u001b[0m                 \u001b[0mioargs\u001b[0m\u001b[1;33m.\u001b[0m\u001b[0mmode\u001b[0m\u001b[1;33m,\u001b[0m\u001b[1;33m\u001b[0m\u001b[1;33m\u001b[0m\u001b[0m\n",
      "\u001b[1;31mFileNotFoundError\u001b[0m: [Errno 2] No such file or directory: '../input/housedata/data.csv'"
     ]
    }
   ],
   "source": [
    "data = pd.read_csv('../input/housedata/data.csv')"
   ]
  },
  {
   "cell_type": "markdown",
   "metadata": {},
   "source": [
    "# EDA + FE: Exploratory Data Analysis and Feature Engineering\n",
    "<img height=\"100\" src=\"https://github.com/GeorgeGalaxy/PhotosFor.../blob/main/icons/data%20analysis.png?raw=true\" width=\"100\"/>"
   ]
  },
  {
   "cell_type": "code",
   "execution_count": null,
   "metadata": {
    "execution": {
     "iopub.execute_input": "2023-01-12T08:03:20.524996Z",
     "iopub.status.busy": "2023-01-12T08:03:20.524571Z",
     "iopub.status.idle": "2023-01-12T08:03:20.561138Z",
     "shell.execute_reply": "2023-01-12T08:03:20.560158Z",
     "shell.execute_reply.started": "2023-01-12T08:03:20.524965Z"
    },
    "jupyter": {
     "outputs_hidden": false
    },
    "pycharm": {
     "name": "#%%\n"
    }
   },
   "outputs": [],
   "source": [
    "data.head()"
   ]
  },
  {
   "cell_type": "code",
   "execution_count": null,
   "metadata": {
    "execution": {
     "iopub.execute_input": "2023-01-12T08:03:20.564010Z",
     "iopub.status.busy": "2023-01-12T08:03:20.563740Z",
     "iopub.status.idle": "2023-01-12T08:03:20.572139Z",
     "shell.execute_reply": "2023-01-12T08:03:20.570938Z",
     "shell.execute_reply.started": "2023-01-12T08:03:20.563978Z"
    },
    "jupyter": {
     "outputs_hidden": false
    },
    "pycharm": {
     "name": "#%%\n"
    }
   },
   "outputs": [],
   "source": [
    "data.shape"
   ]
  },
  {
   "cell_type": "code",
   "execution_count": null,
   "metadata": {
    "execution": {
     "iopub.execute_input": "2023-01-12T08:03:20.573836Z",
     "iopub.status.busy": "2023-01-12T08:03:20.573525Z",
     "iopub.status.idle": "2023-01-12T08:03:20.597614Z",
     "shell.execute_reply": "2023-01-12T08:03:20.596682Z",
     "shell.execute_reply.started": "2023-01-12T08:03:20.573793Z"
    },
    "jupyter": {
     "outputs_hidden": false
    },
    "pycharm": {
     "name": "#%%\n"
    }
   },
   "outputs": [],
   "source": [
    "data.nunique()"
   ]
  },
  {
   "cell_type": "markdown",
   "metadata": {},
   "source": [
    "### We can see that this dataset doesn't have NaN values"
   ]
  },
  {
   "cell_type": "code",
   "execution_count": null,
   "metadata": {
    "execution": {
     "iopub.execute_input": "2023-01-12T08:03:20.598961Z",
     "iopub.status.busy": "2023-01-12T08:03:20.598734Z",
     "iopub.status.idle": "2023-01-12T08:03:20.627871Z",
     "shell.execute_reply": "2023-01-12T08:03:20.626782Z",
     "shell.execute_reply.started": "2023-01-12T08:03:20.598934Z"
    },
    "jupyter": {
     "outputs_hidden": false
    },
    "pycharm": {
     "name": "#%%\n"
    }
   },
   "outputs": [],
   "source": [
    "data.info()"
   ]
  },
  {
   "cell_type": "code",
   "execution_count": null,
   "metadata": {
    "execution": {
     "iopub.execute_input": "2023-01-12T08:03:20.629551Z",
     "iopub.status.busy": "2023-01-12T08:03:20.629301Z",
     "iopub.status.idle": "2023-01-12T08:03:20.685968Z",
     "shell.execute_reply": "2023-01-12T08:03:20.685094Z",
     "shell.execute_reply.started": "2023-01-12T08:03:20.629514Z"
    },
    "jupyter": {
     "outputs_hidden": false
    },
    "pycharm": {
     "name": "#%%\n"
    }
   },
   "outputs": [],
   "source": [
    "data.describe().T"
   ]
  },
  {
   "cell_type": "code",
   "execution_count": null,
   "metadata": {
    "execution": {
     "iopub.execute_input": "2023-01-12T08:03:20.688209Z",
     "iopub.status.busy": "2023-01-12T08:03:20.687632Z",
     "iopub.status.idle": "2023-01-12T08:03:21.358668Z",
     "shell.execute_reply": "2023-01-12T08:03:21.357710Z",
     "shell.execute_reply.started": "2023-01-12T08:03:20.688159Z"
    },
    "jupyter": {
     "outputs_hidden": false
    },
    "pycharm": {
     "name": "#%%\n"
    }
   },
   "outputs": [],
   "source": [
    "plt.figure(figsize=(17, 15))\n",
    "corr_data = data.drop(['date'], axis=1)\n",
    "\n",
    "corr_mask = np.triu(corr_data.corr())\n",
    "h_map = sns.heatmap(corr_data.corr(), mask=corr_mask, cmap='Blues')\n",
    "h_map"
   ]
  },
  {
   "cell_type": "markdown",
   "metadata": {},
   "source": [
    "### Price\n",
    "<img height=\"100\" src=\"https://github.com/GeorgeGalaxy/PhotosFor.../blob/main/icons/price.png?raw=true\" width=\"100\"/>\n",
    "\n",
    "#### Price-Column has got outliers"
   ]
  },
  {
   "cell_type": "code",
   "execution_count": null,
   "metadata": {
    "execution": {
     "iopub.execute_input": "2023-01-12T08:03:21.360981Z",
     "iopub.status.busy": "2023-01-12T08:03:21.360431Z",
     "iopub.status.idle": "2023-01-12T08:03:23.151267Z",
     "shell.execute_reply": "2023-01-12T08:03:23.150411Z",
     "shell.execute_reply.started": "2023-01-12T08:03:21.360928Z"
    },
    "jupyter": {
     "outputs_hidden": false
    },
    "pycharm": {
     "name": "#%%\n"
    }
   },
   "outputs": [],
   "source": [
    "sns.histplot(data.price)"
   ]
  },
  {
   "cell_type": "markdown",
   "metadata": {},
   "source": [
    "#### Let's delete it !"
   ]
  },
  {
   "cell_type": "code",
   "execution_count": null,
   "metadata": {
    "execution": {
     "iopub.execute_input": "2023-01-12T08:03:23.155390Z",
     "iopub.status.busy": "2023-01-12T08:03:23.154955Z",
     "iopub.status.idle": "2023-01-12T08:03:23.162456Z",
     "shell.execute_reply": "2023-01-12T08:03:23.161518Z",
     "shell.execute_reply.started": "2023-01-12T08:03:23.155337Z"
    },
    "jupyter": {
     "outputs_hidden": false
    },
    "pycharm": {
     "name": "#%%\n"
    }
   },
   "outputs": [],
   "source": [
    "def remove_outliers(data, x):\n",
    "    q25 = np.percentile(data[x], 25)\n",
    "    q75 = np.percentile(data[x], 75)\n",
    "    iqr = q75 - q25\n",
    "    cut_off = iqr * 1.5\n",
    "    lower, upper = 1, (q75 + cut_off)\n",
    "    data = data[(data[x] < upper) & (data[x] > lower)]\n",
    "    print(f\"Outliers of {x} are removed\\n\")\n",
    "    return data"
   ]
  },
  {
   "cell_type": "code",
   "execution_count": null,
   "metadata": {
    "execution": {
     "iopub.execute_input": "2023-01-12T08:03:23.164495Z",
     "iopub.status.busy": "2023-01-12T08:03:23.163939Z",
     "iopub.status.idle": "2023-01-12T08:03:23.180416Z",
     "shell.execute_reply": "2023-01-12T08:03:23.179370Z",
     "shell.execute_reply.started": "2023-01-12T08:03:23.164449Z"
    },
    "jupyter": {
     "outputs_hidden": false
    },
    "pycharm": {
     "name": "#%%\n"
    }
   },
   "outputs": [],
   "source": [
    "data = remove_outliers(data, 'price')"
   ]
  },
  {
   "cell_type": "code",
   "execution_count": null,
   "metadata": {
    "execution": {
     "iopub.execute_input": "2023-01-12T08:03:23.182164Z",
     "iopub.status.busy": "2023-01-12T08:03:23.181909Z",
     "iopub.status.idle": "2023-01-12T08:03:23.984837Z",
     "shell.execute_reply": "2023-01-12T08:03:23.983810Z",
     "shell.execute_reply.started": "2023-01-12T08:03:23.182131Z"
    },
    "jupyter": {
     "outputs_hidden": false
    },
    "pycharm": {
     "name": "#%%\n"
    }
   },
   "outputs": [],
   "source": [
    "fig = plt.figure(figsize=(17, 15))\n",
    "grid = GridSpec(ncols=1, nrows=2, figure=fig)\n",
    "\n",
    "# Histogram\n",
    "ax1 = fig.add_subplot(grid[0, :])\n",
    "sns.histplot(data['price'], ax=ax1, kde=True)\n",
    "\n",
    "# QQ plot\n",
    "ax2 = fig.add_subplot(grid[1, :])\n",
    "stats.probplot(data['price'], plot=ax2)"
   ]
  },
  {
   "cell_type": "code",
   "execution_count": null,
   "metadata": {
    "execution": {
     "iopub.execute_input": "2023-01-12T08:03:23.986567Z",
     "iopub.status.busy": "2023-01-12T08:03:23.986314Z",
     "iopub.status.idle": "2023-01-12T08:03:24.298400Z",
     "shell.execute_reply": "2023-01-12T08:03:24.297706Z",
     "shell.execute_reply.started": "2023-01-12T08:03:23.986536Z"
    },
    "jupyter": {
     "outputs_hidden": false
    },
    "pycharm": {
     "name": "#%%\n"
    }
   },
   "outputs": [],
   "source": [
    "y = np.array(data.price)\n",
    "plt.figure(figsize=(20, 6))\n",
    "plt.subplot(131)\n",
    "plt.plot(range(len(y)), y, '.')\n",
    "plt.ylabel('price')\n",
    "plt.xlabel('index')"
   ]
  },
  {
   "cell_type": "code",
   "execution_count": null,
   "metadata": {
    "execution": {
     "iopub.execute_input": "2023-01-12T08:03:24.300079Z",
     "iopub.status.busy": "2023-01-12T08:03:24.299411Z",
     "iopub.status.idle": "2023-01-12T08:03:24.304637Z",
     "shell.execute_reply": "2023-01-12T08:03:24.304005Z",
     "shell.execute_reply.started": "2023-01-12T08:03:24.300045Z"
    },
    "jupyter": {
     "outputs_hidden": false
    },
    "pycharm": {
     "name": "#%%\n"
    }
   },
   "outputs": [],
   "source": [
    "data.shape"
   ]
  },
  {
   "cell_type": "markdown",
   "metadata": {},
   "source": [
    "\n",
    "### Date\n",
    "<img height=\"100\" src=\"https://github.com/GeorgeGalaxy/PhotosFor.../blob/main/icons/date.png?raw=true\" width=\"100\"/>"
   ]
  },
  {
   "cell_type": "code",
   "execution_count": null,
   "metadata": {
    "execution": {
     "iopub.execute_input": "2023-01-12T08:03:24.306200Z",
     "iopub.status.busy": "2023-01-12T08:03:24.305551Z",
     "iopub.status.idle": "2023-01-12T08:03:24.323051Z",
     "shell.execute_reply": "2023-01-12T08:03:24.322103Z",
     "shell.execute_reply.started": "2023-01-12T08:03:24.306163Z"
    },
    "jupyter": {
     "outputs_hidden": false
    },
    "pycharm": {
     "name": "#%%\n"
    }
   },
   "outputs": [],
   "source": [
    "data.date = pd.to_datetime(data.date)"
   ]
  },
  {
   "cell_type": "code",
   "execution_count": null,
   "metadata": {
    "execution": {
     "iopub.execute_input": "2023-01-12T08:03:24.326003Z",
     "iopub.status.busy": "2023-01-12T08:03:24.325263Z",
     "iopub.status.idle": "2023-01-12T08:03:24.336880Z",
     "shell.execute_reply": "2023-01-12T08:03:24.335856Z",
     "shell.execute_reply.started": "2023-01-12T08:03:24.325955Z"
    },
    "jupyter": {
     "outputs_hidden": false
    },
    "pycharm": {
     "name": "#%%\n"
    }
   },
   "outputs": [],
   "source": [
    "data.date.dt.year.value_counts()"
   ]
  },
  {
   "cell_type": "code",
   "execution_count": null,
   "metadata": {
    "execution": {
     "iopub.execute_input": "2023-01-12T08:03:24.338776Z",
     "iopub.status.busy": "2023-01-12T08:03:24.338430Z",
     "iopub.status.idle": "2023-01-12T08:03:24.832297Z",
     "shell.execute_reply": "2023-01-12T08:03:24.831376Z",
     "shell.execute_reply.started": "2023-01-12T08:03:24.338734Z"
    },
    "jupyter": {
     "outputs_hidden": false
    },
    "pycharm": {
     "name": "#%%\n"
    }
   },
   "outputs": [],
   "source": [
    "fig = plt.figure(figsize=(17, 15))\n",
    "grid = GridSpec(ncols=1, nrows=2, figure=fig)\n",
    "\n",
    "ax1 = fig.add_subplot(grid[0, :])\n",
    "sns.countplot(x=data.date.dt.month, ax=ax1)\n",
    "\n",
    "ax2 = fig.add_subplot(grid[1, :])\n",
    "sns.boxplot(x=data.date.dt.month, y='price', data=data, ax=ax2)"
   ]
  },
  {
   "cell_type": "code",
   "execution_count": null,
   "metadata": {
    "execution": {
     "iopub.execute_input": "2023-01-12T08:03:24.833749Z",
     "iopub.status.busy": "2023-01-12T08:03:24.833486Z",
     "iopub.status.idle": "2023-01-12T08:03:25.417973Z",
     "shell.execute_reply": "2023-01-12T08:03:25.417066Z",
     "shell.execute_reply.started": "2023-01-12T08:03:24.833720Z"
    },
    "jupyter": {
     "outputs_hidden": false
    },
    "pycharm": {
     "name": "#%%\n"
    }
   },
   "outputs": [],
   "source": [
    "fig = plt.figure(figsize=(15, 10))\n",
    "sns.countplot(data.date.dt.day)"
   ]
  },
  {
   "cell_type": "code",
   "execution_count": null,
   "metadata": {
    "execution": {
     "iopub.execute_input": "2023-01-12T08:03:25.419436Z",
     "iopub.status.busy": "2023-01-12T08:03:25.419217Z",
     "iopub.status.idle": "2023-01-12T08:03:26.391566Z",
     "shell.execute_reply": "2023-01-12T08:03:26.390945Z",
     "shell.execute_reply.started": "2023-01-12T08:03:25.419409Z"
    },
    "jupyter": {
     "outputs_hidden": false
    },
    "pycharm": {
     "name": "#%%\n"
    }
   },
   "outputs": [],
   "source": [
    "\n",
    "sns.catplot(x=data.date.dt.day.values, y='price', data=data, height=5, aspect=2)"
   ]
  },
  {
   "cell_type": "markdown",
   "metadata": {},
   "source": [
    "#### Date-column have to be deleted"
   ]
  },
  {
   "cell_type": "code",
   "execution_count": null,
   "metadata": {
    "execution": {
     "iopub.execute_input": "2023-01-12T08:03:26.393452Z",
     "iopub.status.busy": "2023-01-12T08:03:26.392753Z",
     "iopub.status.idle": "2023-01-12T08:03:26.399584Z",
     "shell.execute_reply": "2023-01-12T08:03:26.398657Z",
     "shell.execute_reply.started": "2023-01-12T08:03:26.393414Z"
    },
    "jupyter": {
     "outputs_hidden": false
    },
    "pycharm": {
     "name": "#%%\n"
    }
   },
   "outputs": [],
   "source": [
    "data.drop('date', axis=1, inplace=True)"
   ]
  },
  {
   "cell_type": "markdown",
   "metadata": {},
   "source": [
    "#### Checking:"
   ]
  },
  {
   "cell_type": "code",
   "execution_count": null,
   "metadata": {
    "execution": {
     "iopub.execute_input": "2023-01-12T08:03:26.401273Z",
     "iopub.status.busy": "2023-01-12T08:03:26.401019Z",
     "iopub.status.idle": "2023-01-12T08:03:26.427696Z",
     "shell.execute_reply": "2023-01-12T08:03:26.426579Z",
     "shell.execute_reply.started": "2023-01-12T08:03:26.401243Z"
    },
    "jupyter": {
     "outputs_hidden": false
    },
    "pycharm": {
     "name": "#%%\n"
    }
   },
   "outputs": [],
   "source": [
    "data.head(3)"
   ]
  },
  {
   "cell_type": "markdown",
   "metadata": {},
   "source": [
    "### Bedrooms\n",
    "<img height=\"100\" src=\"https://github.com/GeorgeGalaxy/PhotosFor.../blob/main/icons/bedroom.png?raw=true\" width=\"100\"/>"
   ]
  },
  {
   "cell_type": "code",
   "execution_count": null,
   "metadata": {
    "execution": {
     "iopub.execute_input": "2023-01-12T08:03:26.429217Z",
     "iopub.status.busy": "2023-01-12T08:03:26.428933Z",
     "iopub.status.idle": "2023-01-12T08:03:27.022452Z",
     "shell.execute_reply": "2023-01-12T08:03:27.021843Z",
     "shell.execute_reply.started": "2023-01-12T08:03:26.429182Z"
    },
    "jupyter": {
     "outputs_hidden": false
    },
    "pycharm": {
     "name": "#%%\n"
    }
   },
   "outputs": [],
   "source": [
    "sns.catplot(x='bedrooms', y='price', data=data, height=5, aspect=2)"
   ]
  },
  {
   "cell_type": "code",
   "execution_count": null,
   "metadata": {
    "execution": {
     "iopub.execute_input": "2023-01-12T08:03:27.024371Z",
     "iopub.status.busy": "2023-01-12T08:03:27.023888Z",
     "iopub.status.idle": "2023-01-12T08:03:27.443643Z",
     "shell.execute_reply": "2023-01-12T08:03:27.442943Z",
     "shell.execute_reply.started": "2023-01-12T08:03:27.024337Z"
    },
    "jupyter": {
     "outputs_hidden": false
    },
    "pycharm": {
     "name": "#%%\n"
    }
   },
   "outputs": [],
   "source": [
    "fig = plt.figure(figsize=(12, 8))\n",
    "sns.histplot(data.bedrooms)"
   ]
  },
  {
   "cell_type": "markdown",
   "metadata": {},
   "source": [
    "#### We can see outliers, when the value >= 7. Let's delete this one"
   ]
  },
  {
   "cell_type": "code",
   "execution_count": null,
   "metadata": {
    "execution": {
     "iopub.execute_input": "2023-01-12T08:03:27.445258Z",
     "iopub.status.busy": "2023-01-12T08:03:27.444616Z",
     "iopub.status.idle": "2023-01-12T08:03:27.450325Z",
     "shell.execute_reply": "2023-01-12T08:03:27.449658Z",
     "shell.execute_reply.started": "2023-01-12T08:03:27.445224Z"
    },
    "jupyter": {
     "outputs_hidden": false
    },
    "pycharm": {
     "name": "#%%\n"
    }
   },
   "outputs": [],
   "source": [
    "data = data[data.bedrooms < 7]"
   ]
  },
  {
   "cell_type": "code",
   "execution_count": null,
   "metadata": {
    "execution": {
     "iopub.execute_input": "2023-01-12T08:03:27.452026Z",
     "iopub.status.busy": "2023-01-12T08:03:27.451344Z",
     "iopub.status.idle": "2023-01-12T08:03:27.851309Z",
     "shell.execute_reply": "2023-01-12T08:03:27.850362Z",
     "shell.execute_reply.started": "2023-01-12T08:03:27.451986Z"
    },
    "jupyter": {
     "outputs_hidden": false
    },
    "pycharm": {
     "name": "#%%\n"
    }
   },
   "outputs": [],
   "source": [
    "fig = plt.figure(figsize=(12, 8))\n",
    "sns.histplot(x=data.bedrooms)\n",
    "plt.ylabel('Amount')"
   ]
  },
  {
   "cell_type": "code",
   "execution_count": null,
   "metadata": {
    "execution": {
     "iopub.execute_input": "2023-01-12T08:03:27.852882Z",
     "iopub.status.busy": "2023-01-12T08:03:27.852625Z",
     "iopub.status.idle": "2023-01-12T08:03:27.859262Z",
     "shell.execute_reply": "2023-01-12T08:03:27.858316Z",
     "shell.execute_reply.started": "2023-01-12T08:03:27.852850Z"
    },
    "jupyter": {
     "outputs_hidden": false
    },
    "pycharm": {
     "name": "#%%\n"
    }
   },
   "outputs": [],
   "source": [
    "data.shape"
   ]
  },
  {
   "cell_type": "markdown",
   "metadata": {},
   "source": [
    "### Bathrooms\n",
    "<img height=\"100\" src=\"https://github.com/GeorgeGalaxy/PhotosFor.../blob/main/icons/bathroom.png?raw=true\" width=\"100\"/>"
   ]
  },
  {
   "cell_type": "code",
   "execution_count": null,
   "metadata": {
    "execution": {
     "iopub.execute_input": "2023-01-12T08:03:27.860898Z",
     "iopub.status.busy": "2023-01-12T08:03:27.860669Z",
     "iopub.status.idle": "2023-01-12T08:03:28.241364Z",
     "shell.execute_reply": "2023-01-12T08:03:28.240358Z",
     "shell.execute_reply.started": "2023-01-12T08:03:27.860870Z"
    },
    "jupyter": {
     "outputs_hidden": false
    },
    "pycharm": {
     "name": "#%%\n"
    }
   },
   "outputs": [],
   "source": [
    "fig = plt.figure(figsize=(12, 8))\n",
    "sns.countplot(x=data['bathrooms'])"
   ]
  },
  {
   "cell_type": "markdown",
   "metadata": {},
   "source": [
    "#### This attribute has outliers"
   ]
  },
  {
   "cell_type": "code",
   "execution_count": null,
   "metadata": {
    "execution": {
     "iopub.execute_input": "2023-01-12T08:03:28.246168Z",
     "iopub.status.busy": "2023-01-12T08:03:28.245900Z",
     "iopub.status.idle": "2023-01-12T08:03:29.074808Z",
     "shell.execute_reply": "2023-01-12T08:03:29.073705Z",
     "shell.execute_reply.started": "2023-01-12T08:03:28.246138Z"
    },
    "jupyter": {
     "outputs_hidden": false
    },
    "pycharm": {
     "name": "#%%\n"
    }
   },
   "outputs": [],
   "source": [
    "sns.catplot(x='bathrooms', y='price', data=data, height=5, aspect=2)"
   ]
  },
  {
   "cell_type": "code",
   "execution_count": null,
   "metadata": {
    "execution": {
     "iopub.execute_input": "2023-01-12T08:03:29.076460Z",
     "iopub.status.busy": "2023-01-12T08:03:29.076190Z",
     "iopub.status.idle": "2023-01-12T08:03:29.086256Z",
     "shell.execute_reply": "2023-01-12T08:03:29.085232Z",
     "shell.execute_reply.started": "2023-01-12T08:03:29.076427Z"
    },
    "jupyter": {
     "outputs_hidden": false
    },
    "pycharm": {
     "name": "#%%\n"
    }
   },
   "outputs": [],
   "source": [
    "mask = (data.bathrooms < 3.75)\n",
    "data = data[mask]\n",
    "data.bathrooms = data.bathrooms.apply(lambda x: 1 if (x == 0.75)\n",
    "                                                      or\n",
    "                                                     (x == 1.25)\n",
    "                                                  else x)"
   ]
  },
  {
   "cell_type": "code",
   "execution_count": null,
   "metadata": {
    "execution": {
     "iopub.execute_input": "2023-01-12T08:03:29.088324Z",
     "iopub.status.busy": "2023-01-12T08:03:29.087861Z",
     "iopub.status.idle": "2023-01-12T08:03:29.668341Z",
     "shell.execute_reply": "2023-01-12T08:03:29.667355Z",
     "shell.execute_reply.started": "2023-01-12T08:03:29.088276Z"
    },
    "jupyter": {
     "outputs_hidden": false
    },
    "pycharm": {
     "name": "#%%\n"
    }
   },
   "outputs": [],
   "source": [
    "# Pretty good !\n",
    "sns.catplot(x='bathrooms', y='price', data=data, height=5, aspect=2)"
   ]
  },
  {
   "cell_type": "code",
   "execution_count": null,
   "metadata": {
    "execution": {
     "iopub.execute_input": "2023-01-12T08:03:29.669803Z",
     "iopub.status.busy": "2023-01-12T08:03:29.669524Z",
     "iopub.status.idle": "2023-01-12T08:03:29.675571Z",
     "shell.execute_reply": "2023-01-12T08:03:29.674361Z",
     "shell.execute_reply.started": "2023-01-12T08:03:29.669772Z"
    },
    "jupyter": {
     "outputs_hidden": false
    },
    "pycharm": {
     "name": "#%%\n"
    }
   },
   "outputs": [],
   "source": [
    "data.shape"
   ]
  },
  {
   "cell_type": "markdown",
   "metadata": {},
   "source": [
    "### Square footage\n",
    "<img height=\"100\" src=\"https://github.com/GeorgeGalaxy/PhotosFor.../blob/main/icons/floor-plan.png?raw=true\" width=\"100\"/>"
   ]
  },
  {
   "cell_type": "code",
   "execution_count": null,
   "metadata": {
    "execution": {
     "iopub.execute_input": "2023-01-12T08:03:29.677202Z",
     "iopub.status.busy": "2023-01-12T08:03:29.676984Z",
     "iopub.status.idle": "2023-01-12T08:03:29.693259Z",
     "shell.execute_reply": "2023-01-12T08:03:29.692037Z",
     "shell.execute_reply.started": "2023-01-12T08:03:29.677176Z"
    },
    "jupyter": {
     "outputs_hidden": false
    },
    "pycharm": {
     "name": "#%%\n"
    }
   },
   "outputs": [],
   "source": [
    "sqft_cols = data.columns[data.columns.str.contains('sqft')]\n",
    "sqft_cols"
   ]
  },
  {
   "cell_type": "code",
   "execution_count": null,
   "metadata": {
    "execution": {
     "iopub.execute_input": "2023-01-12T08:03:29.695018Z",
     "iopub.status.busy": "2023-01-12T08:03:29.694785Z",
     "iopub.status.idle": "2023-01-12T08:03:29.707276Z",
     "shell.execute_reply": "2023-01-12T08:03:29.706376Z",
     "shell.execute_reply.started": "2023-01-12T08:03:29.694990Z"
    },
    "jupyter": {
     "outputs_hidden": false
    },
    "pycharm": {
     "name": "#%%\n"
    }
   },
   "outputs": [],
   "source": [
    "def show_count_plots(data, cols):\n",
    "    fig = plt.figure(figsize=(10, 10))\n",
    "    grid = GridSpec(ncols=2,\n",
    "                    nrows=2, figure=fig)\n",
    "    for i, name in enumerate(cols):\n",
    "        ax = fig.add_subplot(grid[i])\n",
    "        sns.histplot(data[name], kde=True, ax=ax)"
   ]
  },
  {
   "cell_type": "code",
   "execution_count": null,
   "metadata": {
    "execution": {
     "iopub.execute_input": "2023-01-12T08:03:29.708472Z",
     "iopub.status.busy": "2023-01-12T08:03:29.708233Z",
     "iopub.status.idle": "2023-01-12T08:03:34.369179Z",
     "shell.execute_reply": "2023-01-12T08:03:34.368175Z",
     "shell.execute_reply.started": "2023-01-12T08:03:29.708444Z"
    },
    "jupyter": {
     "outputs_hidden": false
    },
    "pycharm": {
     "name": "#%%\n"
    }
   },
   "outputs": [],
   "source": [
    "show_count_plots(data, sqft_cols)"
   ]
  },
  {
   "cell_type": "markdown",
   "metadata": {},
   "source": [
    "### Floors\n",
    "<img height=\"100\" src=\"https://github.com/GeorgeGalaxy/PhotosFor.../blob/main/icons/floors.png?raw=true\" width=\"100\"/>"
   ]
  },
  {
   "cell_type": "code",
   "execution_count": null,
   "metadata": {
    "execution": {
     "iopub.execute_input": "2023-01-12T08:03:34.370961Z",
     "iopub.status.busy": "2023-01-12T08:03:34.370620Z",
     "iopub.status.idle": "2023-01-12T08:03:34.845671Z",
     "shell.execute_reply": "2023-01-12T08:03:34.844658Z",
     "shell.execute_reply.started": "2023-01-12T08:03:34.370908Z"
    },
    "jupyter": {
     "outputs_hidden": false
    },
    "pycharm": {
     "name": "#%%\n"
    }
   },
   "outputs": [],
   "source": [
    "sns.catplot(x='floors', y='price', data=data, height=5, aspect=2)"
   ]
  },
  {
   "cell_type": "code",
   "execution_count": null,
   "metadata": {
    "execution": {
     "iopub.execute_input": "2023-01-12T08:03:34.847362Z",
     "iopub.status.busy": "2023-01-12T08:03:34.847129Z",
     "iopub.status.idle": "2023-01-12T08:03:34.852536Z",
     "shell.execute_reply": "2023-01-12T08:03:34.851972Z",
     "shell.execute_reply.started": "2023-01-12T08:03:34.847333Z"
    },
    "jupyter": {
     "outputs_hidden": false
    },
    "pycharm": {
     "name": "#%%\n"
    }
   },
   "outputs": [],
   "source": [
    "mask_floors = {1: 1, 1.5:1, 2:2, 2.5:3, 3:3, 3.5:3}\n",
    "data.floors = data.floors.map(mask_floors)"
   ]
  },
  {
   "cell_type": "code",
   "execution_count": null,
   "metadata": {
    "execution": {
     "iopub.execute_input": "2023-01-12T08:03:34.853978Z",
     "iopub.status.busy": "2023-01-12T08:03:34.853648Z",
     "iopub.status.idle": "2023-01-12T08:03:35.290757Z",
     "shell.execute_reply": "2023-01-12T08:03:35.290153Z",
     "shell.execute_reply.started": "2023-01-12T08:03:34.853950Z"
    },
    "jupyter": {
     "outputs_hidden": false
    },
    "pycharm": {
     "name": "#%%\n"
    }
   },
   "outputs": [],
   "source": [
    "# Excellent !\n",
    "sns.catplot(x='floors', y='price', data=data, height=5, aspect=2)"
   ]
  },
  {
   "cell_type": "markdown",
   "metadata": {},
   "source": [
    "#### Let's check the attributes again"
   ]
  },
  {
   "cell_type": "code",
   "execution_count": null,
   "metadata": {
    "execution": {
     "iopub.execute_input": "2023-01-12T08:03:35.292180Z",
     "iopub.status.busy": "2023-01-12T08:03:35.291853Z",
     "iopub.status.idle": "2023-01-12T08:03:35.307771Z",
     "shell.execute_reply": "2023-01-12T08:03:35.307067Z",
     "shell.execute_reply.started": "2023-01-12T08:03:35.292151Z"
    },
    "jupyter": {
     "outputs_hidden": false
    },
    "pycharm": {
     "name": "#%%\n"
    }
   },
   "outputs": [],
   "source": [
    "data.head(3)"
   ]
  },
  {
   "cell_type": "markdown",
   "metadata": {},
   "source": [
    "### WaterFront\n",
    "<img height=\"100\" src=\"https://github.com/GeorgeGalaxy/PhotosFor.../blob/main/icons/water.png?raw=true\" width=\"100\"/>"
   ]
  },
  {
   "cell_type": "markdown",
   "metadata": {},
   "source": []
  },
  {
   "cell_type": "code",
   "execution_count": null,
   "metadata": {
    "execution": {
     "iopub.execute_input": "2023-01-12T08:03:35.309449Z",
     "iopub.status.busy": "2023-01-12T08:03:35.309217Z",
     "iopub.status.idle": "2023-01-12T08:03:35.705702Z",
     "shell.execute_reply": "2023-01-12T08:03:35.705031Z",
     "shell.execute_reply.started": "2023-01-12T08:03:35.309422Z"
    },
    "jupyter": {
     "outputs_hidden": false
    },
    "pycharm": {
     "name": "#%%\n"
    }
   },
   "outputs": [],
   "source": [
    "print(data.waterfront.value_counts())\n",
    "sns.catplot(x='waterfront', y='price', data=data,\n",
    "            kind='box', height=5, aspect=2)"
   ]
  },
  {
   "cell_type": "markdown",
   "metadata": {},
   "source": [
    "### View\n",
    "<img height=\"100\" src=\"https://github.com/GeorgeGalaxy/PhotosFor.../blob/main/icons/view-file.png?raw=true\" width=\"100\"/>"
   ]
  },
  {
   "cell_type": "code",
   "execution_count": null,
   "metadata": {
    "execution": {
     "iopub.execute_input": "2023-01-12T08:03:35.707237Z",
     "iopub.status.busy": "2023-01-12T08:03:35.706653Z",
     "iopub.status.idle": "2023-01-12T08:03:36.168015Z",
     "shell.execute_reply": "2023-01-12T08:03:36.167099Z",
     "shell.execute_reply.started": "2023-01-12T08:03:35.707204Z"
    },
    "jupyter": {
     "outputs_hidden": false
    },
    "pycharm": {
     "name": "#%%\n"
    }
   },
   "outputs": [],
   "source": [
    "print(data.view.value_counts())\n",
    "sns.catplot(x='view', y='price', data=data,\n",
    "            kind='boxen', height=5, aspect=2)"
   ]
  },
  {
   "cell_type": "markdown",
   "metadata": {},
   "source": [
    "### Condition\n",
    "<img height=\"100\" src=\"https://github.com/GeorgeGalaxy/PhotosFor.../blob/main/icons/condition.png?raw=true\" width=\"100\"/>"
   ]
  },
  {
   "cell_type": "code",
   "execution_count": null,
   "metadata": {
    "execution": {
     "iopub.execute_input": "2023-01-12T08:03:36.170031Z",
     "iopub.status.busy": "2023-01-12T08:03:36.169286Z",
     "iopub.status.idle": "2023-01-12T08:03:36.736920Z",
     "shell.execute_reply": "2023-01-12T08:03:36.736131Z",
     "shell.execute_reply.started": "2023-01-12T08:03:36.169994Z"
    },
    "jupyter": {
     "outputs_hidden": false
    },
    "pycharm": {
     "name": "#%%\n"
    }
   },
   "outputs": [],
   "source": [
    "print(data.condition.value_counts())\n",
    "\n",
    "fig = plt.figure(figsize=(15, 10))\n",
    "\n",
    "ax1 = fig.add_subplot(121)\n",
    "sns.boxplot(x='condition', y='price', data=data, ax=ax1)\n",
    "\n",
    "ax2 = fig.add_subplot(122)\n",
    "sns.stripplot(x='condition', y='price', data=data, ax=ax2)"
   ]
  },
  {
   "cell_type": "markdown",
   "metadata": {},
   "source": [
    "#### Delete column with value = 1"
   ]
  },
  {
   "cell_type": "code",
   "execution_count": null,
   "metadata": {
    "execution": {
     "iopub.execute_input": "2023-01-12T08:03:36.738412Z",
     "iopub.status.busy": "2023-01-12T08:03:36.738041Z",
     "iopub.status.idle": "2023-01-12T08:03:36.744261Z",
     "shell.execute_reply": "2023-01-12T08:03:36.743397Z",
     "shell.execute_reply.started": "2023-01-12T08:03:36.738380Z"
    },
    "jupyter": {
     "outputs_hidden": false
    },
    "pycharm": {
     "name": "#%%\n"
    }
   },
   "outputs": [],
   "source": [
    "mask_cond = data.condition > 1\n",
    "data = data[mask_cond]"
   ]
  },
  {
   "cell_type": "code",
   "execution_count": null,
   "metadata": {
    "execution": {
     "iopub.execute_input": "2023-01-12T08:03:36.745846Z",
     "iopub.status.busy": "2023-01-12T08:03:36.745626Z",
     "iopub.status.idle": "2023-01-12T08:03:37.054093Z",
     "shell.execute_reply": "2023-01-12T08:03:37.053276Z",
     "shell.execute_reply.started": "2023-01-12T08:03:36.745819Z"
    },
    "jupyter": {
     "outputs_hidden": false
    },
    "pycharm": {
     "name": "#%%\n"
    }
   },
   "outputs": [],
   "source": [
    "fig = plt.figure(figsize=(12, 8))\n",
    "sns.boxplot(x='condition', y='price', data=data)"
   ]
  },
  {
   "cell_type": "markdown",
   "metadata": {},
   "source": [
    "### Years: built and renovated\n",
    "<img height=\"100\" src=\"https://github.com/GeorgeGalaxy/PhotosFor.../blob/main/icons/years.png?raw=true\" width=\"100\"/>"
   ]
  },
  {
   "cell_type": "code",
   "execution_count": null,
   "metadata": {
    "execution": {
     "iopub.execute_input": "2023-01-12T08:03:37.055396Z",
     "iopub.status.busy": "2023-01-12T08:03:37.055177Z",
     "iopub.status.idle": "2023-01-12T08:03:37.372141Z",
     "shell.execute_reply": "2023-01-12T08:03:37.370808Z",
     "shell.execute_reply.started": "2023-01-12T08:03:37.055369Z"
    },
    "jupyter": {
     "outputs_hidden": false
    },
    "pycharm": {
     "name": "#%%\n"
    }
   },
   "outputs": [],
   "source": [
    "sns.histplot(data.yr_built, kde=True)"
   ]
  },
  {
   "cell_type": "code",
   "execution_count": null,
   "metadata": {
    "execution": {
     "iopub.execute_input": "2023-01-12T08:03:37.374761Z",
     "iopub.status.busy": "2023-01-12T08:03:37.374122Z",
     "iopub.status.idle": "2023-01-12T08:03:37.693724Z",
     "shell.execute_reply": "2023-01-12T08:03:37.693037Z",
     "shell.execute_reply.started": "2023-01-12T08:03:37.374712Z"
    },
    "jupyter": {
     "outputs_hidden": false
    },
    "pycharm": {
     "name": "#%%\n"
    }
   },
   "outputs": [],
   "source": [
    "sns.histplot(data.yr_renovated, kde=True)"
   ]
  },
  {
   "cell_type": "markdown",
   "metadata": {},
   "source": [
    "#### If house is renovated, set the value is equal 1. Else is equal 0"
   ]
  },
  {
   "cell_type": "code",
   "execution_count": null,
   "metadata": {
    "execution": {
     "iopub.execute_input": "2023-01-12T08:03:37.695973Z",
     "iopub.status.busy": "2023-01-12T08:03:37.695353Z",
     "iopub.status.idle": "2023-01-12T08:03:37.705057Z",
     "shell.execute_reply": "2023-01-12T08:03:37.703671Z",
     "shell.execute_reply.started": "2023-01-12T08:03:37.695926Z"
    },
    "jupyter": {
     "outputs_hidden": false
    },
    "pycharm": {
     "name": "#%%\n"
    }
   },
   "outputs": [],
   "source": [
    "data.yr_renovated = data.yr_renovated.apply(lambda x: 0 if x==0 else 1)"
   ]
  },
  {
   "cell_type": "code",
   "execution_count": null,
   "metadata": {
    "execution": {
     "iopub.execute_input": "2023-01-12T08:03:37.706548Z",
     "iopub.status.busy": "2023-01-12T08:03:37.706299Z",
     "iopub.status.idle": "2023-01-12T08:03:38.146859Z",
     "shell.execute_reply": "2023-01-12T08:03:38.145807Z",
     "shell.execute_reply.started": "2023-01-12T08:03:37.706510Z"
    },
    "jupyter": {
     "outputs_hidden": false
    },
    "pycharm": {
     "name": "#%%\n"
    }
   },
   "outputs": [],
   "source": [
    "print(data.yr_renovated.value_counts())\n",
    "sns.catplot(x='yr_renovated', y='price', data=data,\n",
    "            kind='bar', height=5, aspect=2)"
   ]
  },
  {
   "cell_type": "markdown",
   "metadata": {},
   "source": [
    "#### Checking the data"
   ]
  },
  {
   "cell_type": "code",
   "execution_count": null,
   "metadata": {
    "execution": {
     "iopub.execute_input": "2023-01-12T08:03:38.148787Z",
     "iopub.status.busy": "2023-01-12T08:03:38.148502Z",
     "iopub.status.idle": "2023-01-12T08:03:38.167672Z",
     "shell.execute_reply": "2023-01-12T08:03:38.166694Z",
     "shell.execute_reply.started": "2023-01-12T08:03:38.148753Z"
    },
    "jupyter": {
     "outputs_hidden": false
    },
    "pycharm": {
     "name": "#%%\n"
    }
   },
   "outputs": [],
   "source": [
    "data.head(3)"
   ]
  },
  {
   "cell_type": "markdown",
   "metadata": {},
   "source": [
    "### Location information\n",
    "<img height=\"100\" src=\"https://github.com/GeorgeGalaxy/PhotosFor.../blob/main/icons/location.png?raw=true\" width=\"100\"/>"
   ]
  },
  {
   "cell_type": "markdown",
   "metadata": {},
   "source": []
  },
  {
   "cell_type": "markdown",
   "metadata": {},
   "source": [
    "#### Street"
   ]
  },
  {
   "cell_type": "code",
   "execution_count": null,
   "metadata": {
    "execution": {
     "iopub.execute_input": "2023-01-12T08:03:38.169343Z",
     "iopub.status.busy": "2023-01-12T08:03:38.168990Z",
     "iopub.status.idle": "2023-01-12T08:03:38.185621Z",
     "shell.execute_reply": "2023-01-12T08:03:38.184674Z",
     "shell.execute_reply.started": "2023-01-12T08:03:38.169299Z"
    },
    "jupyter": {
     "outputs_hidden": false
    },
    "pycharm": {
     "name": "#%%\n"
    }
   },
   "outputs": [],
   "source": [
    "data.street.value_counts()"
   ]
  },
  {
   "cell_type": "markdown",
   "metadata": {},
   "source": [
    "#### This will prevent finding the common pattern"
   ]
  },
  {
   "cell_type": "code",
   "execution_count": null,
   "metadata": {
    "execution": {
     "iopub.execute_input": "2023-01-12T08:03:38.187481Z",
     "iopub.status.busy": "2023-01-12T08:03:38.187134Z",
     "iopub.status.idle": "2023-01-12T08:03:38.206677Z",
     "shell.execute_reply": "2023-01-12T08:03:38.205700Z",
     "shell.execute_reply.started": "2023-01-12T08:03:38.187426Z"
    },
    "jupyter": {
     "outputs_hidden": false
    },
    "pycharm": {
     "name": "#%%\n"
    }
   },
   "outputs": [],
   "source": [
    "data.drop('street', axis=1, inplace=True)"
   ]
  },
  {
   "cell_type": "markdown",
   "metadata": {},
   "source": [
    "#### City"
   ]
  },
  {
   "cell_type": "code",
   "execution_count": null,
   "metadata": {
    "execution": {
     "iopub.execute_input": "2023-01-12T08:03:38.208804Z",
     "iopub.status.busy": "2023-01-12T08:03:38.208029Z",
     "iopub.status.idle": "2023-01-12T08:03:38.223736Z",
     "shell.execute_reply": "2023-01-12T08:03:38.222826Z",
     "shell.execute_reply.started": "2023-01-12T08:03:38.208765Z"
    },
    "jupyter": {
     "outputs_hidden": false
    },
    "pycharm": {
     "name": "#%%\n"
    }
   },
   "outputs": [],
   "source": [
    "data.city.value_counts().head(10)"
   ]
  },
  {
   "cell_type": "code",
   "execution_count": null,
   "metadata": {
    "execution": {
     "iopub.execute_input": "2023-01-12T08:03:38.224963Z",
     "iopub.status.busy": "2023-01-12T08:03:38.224750Z",
     "iopub.status.idle": "2023-01-12T08:03:38.423912Z",
     "shell.execute_reply": "2023-01-12T08:03:38.422684Z",
     "shell.execute_reply.started": "2023-01-12T08:03:38.224937Z"
    },
    "jupyter": {
     "outputs_hidden": false
    },
    "pycharm": {
     "name": "#%%\n"
    }
   },
   "outputs": [],
   "source": [
    "fig = plt.figure(figsize=(12, 8))\n",
    "# Top 5 cities\n",
    "data.city.value_counts().head(5).plot.pie()"
   ]
  },
  {
   "cell_type": "markdown",
   "metadata": {},
   "source": [
    "#### State zip"
   ]
  },
  {
   "cell_type": "code",
   "execution_count": null,
   "metadata": {
    "execution": {
     "iopub.execute_input": "2023-01-12T08:03:38.426494Z",
     "iopub.status.busy": "2023-01-12T08:03:38.425749Z",
     "iopub.status.idle": "2023-01-12T08:03:38.446967Z",
     "shell.execute_reply": "2023-01-12T08:03:38.441836Z",
     "shell.execute_reply.started": "2023-01-12T08:03:38.426424Z"
    },
    "jupyter": {
     "outputs_hidden": false
    },
    "pycharm": {
     "name": "#%%\n"
    }
   },
   "outputs": [],
   "source": [
    "print(data.statezip.nunique())\n",
    "print(data.statezip.value_counts())"
   ]
  },
  {
   "cell_type": "code",
   "execution_count": null,
   "metadata": {
    "execution": {
     "iopub.execute_input": "2023-01-12T08:03:38.451116Z",
     "iopub.status.busy": "2023-01-12T08:03:38.449525Z",
     "iopub.status.idle": "2023-01-12T08:03:38.460661Z",
     "shell.execute_reply": "2023-01-12T08:03:38.459381Z",
     "shell.execute_reply.started": "2023-01-12T08:03:38.451034Z"
    },
    "jupyter": {
     "outputs_hidden": false
    },
    "pycharm": {
     "name": "#%%\n"
    }
   },
   "outputs": [],
   "source": [
    "data.drop('statezip', axis=1, inplace=True)"
   ]
  },
  {
   "cell_type": "markdown",
   "metadata": {},
   "source": [
    "#### Country"
   ]
  },
  {
   "cell_type": "code",
   "execution_count": null,
   "metadata": {
    "execution": {
     "iopub.execute_input": "2023-01-12T08:03:38.463095Z",
     "iopub.status.busy": "2023-01-12T08:03:38.462594Z",
     "iopub.status.idle": "2023-01-12T08:03:38.684653Z",
     "shell.execute_reply": "2023-01-12T08:03:38.683874Z",
     "shell.execute_reply.started": "2023-01-12T08:03:38.463045Z"
    },
    "jupyter": {
     "outputs_hidden": false
    },
    "pycharm": {
     "name": "#%%\n"
    }
   },
   "outputs": [],
   "source": [
    "sns.countplot(x=data.country)"
   ]
  },
  {
   "cell_type": "code",
   "execution_count": null,
   "metadata": {
    "execution": {
     "iopub.execute_input": "2023-01-12T08:03:38.686547Z",
     "iopub.status.busy": "2023-01-12T08:03:38.685810Z",
     "iopub.status.idle": "2023-01-12T08:03:38.693054Z",
     "shell.execute_reply": "2023-01-12T08:03:38.691849Z",
     "shell.execute_reply.started": "2023-01-12T08:03:38.686508Z"
    },
    "jupyter": {
     "outputs_hidden": false
    },
    "pycharm": {
     "name": "#%%\n"
    }
   },
   "outputs": [],
   "source": [
    "data.drop('country', axis=1, inplace=True)"
   ]
  },
  {
   "cell_type": "markdown",
   "metadata": {},
   "source": [
    "### Checking the dataset\n",
    "<img height=\"100\" src=\"https://github.com/GeorgeGalaxy/PhotosFor.../blob/main/icons/checking.png?raw=true\" width=\"100\"/>"
   ]
  },
  {
   "cell_type": "code",
   "execution_count": null,
   "metadata": {
    "execution": {
     "iopub.execute_input": "2023-01-12T08:03:38.695173Z",
     "iopub.status.busy": "2023-01-12T08:03:38.694663Z",
     "iopub.status.idle": "2023-01-12T08:03:39.168471Z",
     "shell.execute_reply": "2023-01-12T08:03:39.167506Z",
     "shell.execute_reply.started": "2023-01-12T08:03:38.695124Z"
    },
    "jupyter": {
     "outputs_hidden": false
    },
    "pycharm": {
     "name": "#%%\n"
    }
   },
   "outputs": [],
   "source": [
    "h_map = sns.heatmap(corr_data.corr(), mask=corr_mask, cmap='Blues')\n",
    "h_map"
   ]
  },
  {
   "cell_type": "code",
   "execution_count": null,
   "metadata": {
    "execution": {
     "iopub.execute_input": "2023-01-12T08:03:39.170364Z",
     "iopub.status.busy": "2023-01-12T08:03:39.170038Z",
     "iopub.status.idle": "2023-01-12T08:03:39.189485Z",
     "shell.execute_reply": "2023-01-12T08:03:39.188614Z",
     "shell.execute_reply.started": "2023-01-12T08:03:39.170322Z"
    },
    "jupyter": {
     "outputs_hidden": false
    },
    "pycharm": {
     "name": "#%%\n"
    }
   },
   "outputs": [],
   "source": [
    "print(data.shape)\n",
    "data.head(3)"
   ]
  },
  {
   "cell_type": "markdown",
   "metadata": {},
   "source": [
    "# Prepare data for training\n",
    "<img height=\"100\" src=\"https://github.com/GeorgeGalaxy/PhotosFor.../blob/main/icons/prepare.png?raw=true\" width=\"100\"/>"
   ]
  },
  {
   "cell_type": "code",
   "execution_count": null,
   "metadata": {
    "execution": {
     "iopub.execute_input": "2023-01-12T08:03:39.191629Z",
     "iopub.status.busy": "2023-01-12T08:03:39.191041Z",
     "iopub.status.idle": "2023-01-12T08:03:39.197368Z",
     "shell.execute_reply": "2023-01-12T08:03:39.196472Z",
     "shell.execute_reply.started": "2023-01-12T08:03:39.191544Z"
    },
    "jupyter": {
     "outputs_hidden": false
    },
    "pycharm": {
     "name": "#%%\n"
    }
   },
   "outputs": [],
   "source": [
    "X = data.drop('price', axis=1)\n",
    "y = data.price.astype(int)"
   ]
  },
  {
   "cell_type": "markdown",
   "metadata": {},
   "source": [
    "### Scaler"
   ]
  },
  {
   "cell_type": "code",
   "execution_count": null,
   "metadata": {
    "execution": {
     "iopub.execute_input": "2023-01-12T08:03:39.198729Z",
     "iopub.status.busy": "2023-01-12T08:03:39.198456Z",
     "iopub.status.idle": "2023-01-12T08:03:39.212306Z",
     "shell.execute_reply": "2023-01-12T08:03:39.211571Z",
     "shell.execute_reply.started": "2023-01-12T08:03:39.198696Z"
    },
    "jupyter": {
     "outputs_hidden": false
    },
    "pycharm": {
     "name": "#%%\n"
    }
   },
   "outputs": [],
   "source": [
    "# set up preprocessing numeric columns\n",
    "imp_median = SimpleImputer(strategy='median', add_indicator=True)\n",
    "scaler = StandardScaler()"
   ]
  },
  {
   "cell_type": "code",
   "execution_count": null,
   "metadata": {
    "execution": {
     "iopub.execute_input": "2023-01-12T08:03:39.214260Z",
     "iopub.status.busy": "2023-01-12T08:03:39.213441Z",
     "iopub.status.idle": "2023-01-12T08:03:39.227616Z",
     "shell.execute_reply": "2023-01-12T08:03:39.226670Z",
     "shell.execute_reply.started": "2023-01-12T08:03:39.214219Z"
    },
    "jupyter": {
     "outputs_hidden": false
    },
    "pycharm": {
     "name": "#%%\n"
    }
   },
   "outputs": [],
   "source": [
    "# set up preprocessing categorical columns\n",
    "imp_constant = SimpleImputer(strategy='constant')\n",
    "ohe = OneHotEncoder(handle_unknown='ignore')"
   ]
  },
  {
   "cell_type": "code",
   "execution_count": null,
   "metadata": {
    "execution": {
     "iopub.execute_input": "2023-01-12T08:03:39.229546Z",
     "iopub.status.busy": "2023-01-12T08:03:39.228967Z",
     "iopub.status.idle": "2023-01-12T08:03:39.241922Z",
     "shell.execute_reply": "2023-01-12T08:03:39.241171Z",
     "shell.execute_reply.started": "2023-01-12T08:03:39.229509Z"
    },
    "jupyter": {
     "outputs_hidden": false
    },
    "pycharm": {
     "name": "#%%\n"
    }
   },
   "outputs": [],
   "source": [
    "# select columns by datatype\n",
    "num_cols = make_column_selector(dtype_include='number')\n",
    "cat_cols = make_column_selector(dtype_exclude='number')"
   ]
  },
  {
   "cell_type": "code",
   "execution_count": null,
   "metadata": {
    "execution": {
     "iopub.execute_input": "2023-01-12T08:03:39.243722Z",
     "iopub.status.busy": "2023-01-12T08:03:39.243008Z",
     "iopub.status.idle": "2023-01-12T08:03:39.256200Z",
     "shell.execute_reply": "2023-01-12T08:03:39.255411Z",
     "shell.execute_reply.started": "2023-01-12T08:03:39.243685Z"
    },
    "jupyter": {
     "outputs_hidden": false
    },
    "pycharm": {
     "name": "#%%\n"
    }
   },
   "outputs": [],
   "source": [
    "# do all preprocessing\n",
    "preprocessor = make_column_transformer(\n",
    "    (make_pipeline(imp_median, scaler), num_cols),\n",
    "    (make_pipeline(imp_constant, ohe), cat_cols)\n",
    ")"
   ]
  },
  {
   "cell_type": "markdown",
   "metadata": {},
   "source": [
    "# Model training and visualising\n",
    "<img height=\"100\" src=\"https://github.com/GeorgeGalaxy/PhotosFor.../blob/main/icons/external-training-lineal-.png?raw=true\" width=\"100\"/>"
   ]
  },
  {
   "cell_type": "code",
   "execution_count": null,
   "metadata": {
    "execution": {
     "iopub.execute_input": "2023-01-12T08:03:39.258121Z",
     "iopub.status.busy": "2023-01-12T08:03:39.257296Z",
     "iopub.status.idle": "2023-01-12T08:03:39.277496Z",
     "shell.execute_reply": "2023-01-12T08:03:39.276394Z",
     "shell.execute_reply.started": "2023-01-12T08:03:39.258068Z"
    },
    "jupyter": {
     "outputs_hidden": false
    },
    "pycharm": {
     "name": "#%%\n"
    }
   },
   "outputs": [],
   "source": [
    "# create a pipeline\n",
    "def pipeline_model(X, y, data):\n",
    "    pipe = make_pipeline(preprocessor, LinearRegression())\n",
    "\n",
    "    print(cross_val_score(pipe, X, y).mean())\n",
    "\n",
    "    X_train, X_test, y_train, y_test = train_test_split(X, y, test_size=0.2,\n",
    "                                                        random_state=32)\n",
    "\n",
    "    pipe.fit(X_train, y_train)\n",
    "\n",
    "    predict = pipe.predict(X_test)\n",
    "    print(f'MSE             : {metrics.mean_squared_error(y_test, predict)}\\n'\n",
    "          f'\\nRMSE            : '\n",
    "          f'{np.sqrt(metrics.mean_squared_error(y_test, predict))}\\n'\n",
    "          f'MAE             : {metrics.mean_absolute_error(y_test, predict)}\\n'\n",
    "          #f'Mean abs % error: '\n",
    "          #f'{metrics.mean_absolute_percentage_error(y_test, predict)}\\n'\n",
    "          f'\\n'\n",
    "          f'Score (train)   : {pipe.score(X_train, y_train)}\\n'\n",
    "          f'Score (test)    : {pipe.score(X_test, y_test)}\\n')\n",
    "    comparison_of_results(X_test, y_test, pipe)\n",
    "    visualize_model_results(data, pipe)\n",
    "\n",
    "def comparison_of_results(X_test, y_test, model, times=5):\n",
    "    for i in range(times):\n",
    "        rnd = np.random.randint(0, y_test.shape[0] - 1)\n",
    "        real = y_test.iloc[rnd]\n",
    "        pred = int(model.predict(X_test.iloc[rnd].to_frame().T)[0])\n",
    "        print(f'Real Value      ----->>>>> {real} $\\n'\n",
    "              f'Predicted Value ----->>>>> {pred} $')\n",
    "        print()\n",
    "\n",
    "\n",
    "def visualize_model_results(data, model):\n",
    "    fig = plt.figure(figsize=(17, 10))\n",
    "    data = data.sort_values(by=['price'])\n",
    "    X = data.drop('price', axis=1)\n",
    "    y = data.price.astype(int)\n",
    "    \n",
    "    plt.scatter(range(X.shape[0]), y, color='red', label='Real')\n",
    "    plt.scatter(range(X.shape[0]), model.predict(X), marker='.', label='Predict')\n",
    "\n",
    "    plt.legend(loc=2, prop={'size': 25})"
   ]
  },
  {
   "cell_type": "code",
   "execution_count": null,
   "metadata": {
    "execution": {
     "iopub.execute_input": "2023-01-12T08:03:39.279531Z",
     "iopub.status.busy": "2023-01-12T08:03:39.279114Z",
     "iopub.status.idle": "2023-01-12T08:03:40.336658Z",
     "shell.execute_reply": "2023-01-12T08:03:40.335782Z",
     "shell.execute_reply.started": "2023-01-12T08:03:39.279485Z"
    },
    "jupyter": {
     "outputs_hidden": false
    },
    "pycharm": {
     "name": "#%%\n"
    }
   },
   "outputs": [],
   "source": [
    "pipeline_model(X, y, data)"
   ]
  },
  {
   "cell_type": "markdown",
   "metadata": {},
   "source": []
  },
  {
   "cell_type": "markdown",
   "metadata": {},
   "source": [
    "# Conclusions\n",
    "<img height=\"100\" src=\"https://github.com/GeorgeGalaxy/PhotosFor.../blob/main/icons/conclusion.png?raw=true\" width=\"100\"/>\n",
    "\n",
    "## <center> Random Forest Model showed a maximum ~72% (usually ~69) </center>\n"
   ]
  },
  {
   "cell_type": "markdown",
   "metadata": {},
   "source": [
    "# <center> Thank You ! </center>\n",
    "\n",
    "<img height=\"150\" src=\"https://github.com/GeorgeGalaxy/PhotosFor.../blob/main/icons/thank-you.png?raw=true\" width=\"150\"/>\n",
    "\n",
    "## <center> If you have found something useful for yourself in my work , please evaluate and comment </center>\n",
    "\n",
    "![](https://github.com/GeorgeGalaxy/PhotosFor.../blob/main/LinePurplePink.jpg?raw=true)"
   ]
  },
  {
   "cell_type": "code",
   "execution_count": null,
   "metadata": {
    "jupyter": {
     "outputs_hidden": false
    },
    "pycharm": {
     "name": "#%%\n"
    }
   },
   "outputs": [],
   "source": []
  }
 ],
 "metadata": {
  "kernelspec": {
   "display_name": "Python 3 (ipykernel)",
   "language": "python",
   "name": "python3"
  },
  "language_info": {
   "codemirror_mode": {
    "name": "ipython",
    "version": 3
   },
   "file_extension": ".py",
   "mimetype": "text/x-python",
   "name": "python",
   "nbconvert_exporter": "python",
   "pygments_lexer": "ipython3",
   "version": "3.9.13"
  }
 },
 "nbformat": 4,
 "nbformat_minor": 4
}
